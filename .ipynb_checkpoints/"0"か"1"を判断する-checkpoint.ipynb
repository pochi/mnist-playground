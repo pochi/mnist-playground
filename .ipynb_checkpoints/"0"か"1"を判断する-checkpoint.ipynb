{
 "cells": [
  {
   "cell_type": "code",
   "execution_count": 93,
   "metadata": {},
   "outputs": [],
   "source": [
    "import tensorflow as tf\n",
    "import numpy as np\n",
    "import pandas as pd\n",
    "import tensorflow.keras.preprocessing.image as image_util\n",
    "import matplotlib.pyplot as plt\n",
    "from tensorflow.keras.models import Sequential\n",
    "from tensorflow.keras.layers import Dense, Activation, Flatten, MaxPooling2D, BatchNormalization, Conv2D, Dropout\n",
    "%matplotlib inline"
   ]
  },
  {
   "cell_type": "markdown",
   "metadata": {},
   "source": [
    "# [帰納法]'0'と'1'の手書き文字を判断\n",
    "\n",
    "- 学習データ: '0'と'1'の画像データそれぞれ1,000枚\n",
    "- 多層ニューラルネットワークは画像の特徴量を抽出し、手書き文字を分類するネットワーク\n",
    "- 入力データ: 画像データ、回答データ: '0' or '1'"
   ]
  },
  {
   "cell_type": "markdown",
   "metadata": {},
   "source": [
    "# データ読み込み\n",
    "\n",
    "- 1と0の画像をそれぞれ1000枚ずつ読み込みます"
   ]
  },
  {
   "cell_type": "code",
   "execution_count": 151,
   "metadata": {
    "collapsed": true
   },
   "outputs": [],
   "source": [
    "def load_data():\n",
    "    label_zero_images = pd.read_csv(\"./data/0.csv\") # => 1000行のCSV\n",
    "    label_one_images = pd.read_csv(\"./data/1.csv\") # => 1000行のCSV\n",
    "    label_zero = label_zero_images[\"label\"].values\n",
    "    image_zero = label_zero_images.drop(\"label\", axis=1)\n",
    "    label_one = label_one_images[\"label\"].values\n",
    "    image_one = label_one_images.drop(\"label\", axis=1)\n",
    "    reshape_zero_images = image_zero.values.reshape(len(image_zero), 28, 28, 1)\n",
    "    reshape_one_images = image_one.values.reshape(len(image_one), 28 , 28, 1)\n",
    "    return label_zero, reshape_zero_images, label_one, reshape_one_images\n",
    "\n",
    "def load_train_data():\n",
    "    label_zero_images = pd.read_csv(\"./data/0.csv\") # => 1000行のCSV\n",
    "    label_one_images = pd.read_csv(\"./data/1.csv\") # => 1000行のCSV\n",
    "    concat_images = pd.concat([label_zero_images[0:995], label_one_images[0:995]])\n",
    "    test_zero_images = label_zero_images[995:1000].drop(\"label\", axis=1).values.reshape(5, 28, 28, 1)\n",
    "    test_one_images = label_one_images[995:1000].drop(\"label\", axis=1).values.reshape(5, 28, 28, 1)\n",
    "    \n",
    "    return concat_images.sample(frac=1).reset_index(drop=True), test_zero_images, test_one_images"
   ]
  },
  {
   "cell_type": "code",
   "execution_count": 152,
   "metadata": {},
   "outputs": [
    {
     "data": {
      "text/html": [
       "<div>\n",
       "<style>\n",
       "    .dataframe thead tr:only-child th {\n",
       "        text-align: right;\n",
       "    }\n",
       "\n",
       "    .dataframe thead th {\n",
       "        text-align: left;\n",
       "    }\n",
       "\n",
       "    .dataframe tbody tr th {\n",
       "        vertical-align: top;\n",
       "    }\n",
       "</style>\n",
       "<table border=\"1\" class=\"dataframe\">\n",
       "  <thead>\n",
       "    <tr style=\"text-align: right;\">\n",
       "      <th></th>\n",
       "      <th>label</th>\n",
       "      <th>pixel0</th>\n",
       "      <th>pixel1</th>\n",
       "      <th>pixel2</th>\n",
       "      <th>pixel3</th>\n",
       "      <th>pixel4</th>\n",
       "      <th>pixel5</th>\n",
       "      <th>pixel6</th>\n",
       "      <th>pixel7</th>\n",
       "      <th>pixel8</th>\n",
       "      <th>...</th>\n",
       "      <th>pixel774</th>\n",
       "      <th>pixel775</th>\n",
       "      <th>pixel776</th>\n",
       "      <th>pixel777</th>\n",
       "      <th>pixel778</th>\n",
       "      <th>pixel779</th>\n",
       "      <th>pixel780</th>\n",
       "      <th>pixel781</th>\n",
       "      <th>pixel782</th>\n",
       "      <th>pixel783</th>\n",
       "    </tr>\n",
       "  </thead>\n",
       "  <tbody>\n",
       "    <tr>\n",
       "      <th>count</th>\n",
       "      <td>1990.000000</td>\n",
       "      <td>1990.0</td>\n",
       "      <td>1990.0</td>\n",
       "      <td>1990.0</td>\n",
       "      <td>1990.0</td>\n",
       "      <td>1990.0</td>\n",
       "      <td>1990.0</td>\n",
       "      <td>1990.0</td>\n",
       "      <td>1990.0</td>\n",
       "      <td>1990.0</td>\n",
       "      <td>...</td>\n",
       "      <td>1990.0</td>\n",
       "      <td>1990.0</td>\n",
       "      <td>1990.0</td>\n",
       "      <td>1990.0</td>\n",
       "      <td>1990.0</td>\n",
       "      <td>1990.0</td>\n",
       "      <td>1990.0</td>\n",
       "      <td>1990.0</td>\n",
       "      <td>1990.0</td>\n",
       "      <td>1990.0</td>\n",
       "    </tr>\n",
       "    <tr>\n",
       "      <th>mean</th>\n",
       "      <td>0.500000</td>\n",
       "      <td>0.0</td>\n",
       "      <td>0.0</td>\n",
       "      <td>0.0</td>\n",
       "      <td>0.0</td>\n",
       "      <td>0.0</td>\n",
       "      <td>0.0</td>\n",
       "      <td>0.0</td>\n",
       "      <td>0.0</td>\n",
       "      <td>0.0</td>\n",
       "      <td>...</td>\n",
       "      <td>0.0</td>\n",
       "      <td>0.0</td>\n",
       "      <td>0.0</td>\n",
       "      <td>0.0</td>\n",
       "      <td>0.0</td>\n",
       "      <td>0.0</td>\n",
       "      <td>0.0</td>\n",
       "      <td>0.0</td>\n",
       "      <td>0.0</td>\n",
       "      <td>0.0</td>\n",
       "    </tr>\n",
       "    <tr>\n",
       "      <th>std</th>\n",
       "      <td>0.500126</td>\n",
       "      <td>0.0</td>\n",
       "      <td>0.0</td>\n",
       "      <td>0.0</td>\n",
       "      <td>0.0</td>\n",
       "      <td>0.0</td>\n",
       "      <td>0.0</td>\n",
       "      <td>0.0</td>\n",
       "      <td>0.0</td>\n",
       "      <td>0.0</td>\n",
       "      <td>...</td>\n",
       "      <td>0.0</td>\n",
       "      <td>0.0</td>\n",
       "      <td>0.0</td>\n",
       "      <td>0.0</td>\n",
       "      <td>0.0</td>\n",
       "      <td>0.0</td>\n",
       "      <td>0.0</td>\n",
       "      <td>0.0</td>\n",
       "      <td>0.0</td>\n",
       "      <td>0.0</td>\n",
       "    </tr>\n",
       "    <tr>\n",
       "      <th>min</th>\n",
       "      <td>0.000000</td>\n",
       "      <td>0.0</td>\n",
       "      <td>0.0</td>\n",
       "      <td>0.0</td>\n",
       "      <td>0.0</td>\n",
       "      <td>0.0</td>\n",
       "      <td>0.0</td>\n",
       "      <td>0.0</td>\n",
       "      <td>0.0</td>\n",
       "      <td>0.0</td>\n",
       "      <td>...</td>\n",
       "      <td>0.0</td>\n",
       "      <td>0.0</td>\n",
       "      <td>0.0</td>\n",
       "      <td>0.0</td>\n",
       "      <td>0.0</td>\n",
       "      <td>0.0</td>\n",
       "      <td>0.0</td>\n",
       "      <td>0.0</td>\n",
       "      <td>0.0</td>\n",
       "      <td>0.0</td>\n",
       "    </tr>\n",
       "    <tr>\n",
       "      <th>25%</th>\n",
       "      <td>0.000000</td>\n",
       "      <td>0.0</td>\n",
       "      <td>0.0</td>\n",
       "      <td>0.0</td>\n",
       "      <td>0.0</td>\n",
       "      <td>0.0</td>\n",
       "      <td>0.0</td>\n",
       "      <td>0.0</td>\n",
       "      <td>0.0</td>\n",
       "      <td>0.0</td>\n",
       "      <td>...</td>\n",
       "      <td>0.0</td>\n",
       "      <td>0.0</td>\n",
       "      <td>0.0</td>\n",
       "      <td>0.0</td>\n",
       "      <td>0.0</td>\n",
       "      <td>0.0</td>\n",
       "      <td>0.0</td>\n",
       "      <td>0.0</td>\n",
       "      <td>0.0</td>\n",
       "      <td>0.0</td>\n",
       "    </tr>\n",
       "    <tr>\n",
       "      <th>50%</th>\n",
       "      <td>0.500000</td>\n",
       "      <td>0.0</td>\n",
       "      <td>0.0</td>\n",
       "      <td>0.0</td>\n",
       "      <td>0.0</td>\n",
       "      <td>0.0</td>\n",
       "      <td>0.0</td>\n",
       "      <td>0.0</td>\n",
       "      <td>0.0</td>\n",
       "      <td>0.0</td>\n",
       "      <td>...</td>\n",
       "      <td>0.0</td>\n",
       "      <td>0.0</td>\n",
       "      <td>0.0</td>\n",
       "      <td>0.0</td>\n",
       "      <td>0.0</td>\n",
       "      <td>0.0</td>\n",
       "      <td>0.0</td>\n",
       "      <td>0.0</td>\n",
       "      <td>0.0</td>\n",
       "      <td>0.0</td>\n",
       "    </tr>\n",
       "    <tr>\n",
       "      <th>75%</th>\n",
       "      <td>1.000000</td>\n",
       "      <td>0.0</td>\n",
       "      <td>0.0</td>\n",
       "      <td>0.0</td>\n",
       "      <td>0.0</td>\n",
       "      <td>0.0</td>\n",
       "      <td>0.0</td>\n",
       "      <td>0.0</td>\n",
       "      <td>0.0</td>\n",
       "      <td>0.0</td>\n",
       "      <td>...</td>\n",
       "      <td>0.0</td>\n",
       "      <td>0.0</td>\n",
       "      <td>0.0</td>\n",
       "      <td>0.0</td>\n",
       "      <td>0.0</td>\n",
       "      <td>0.0</td>\n",
       "      <td>0.0</td>\n",
       "      <td>0.0</td>\n",
       "      <td>0.0</td>\n",
       "      <td>0.0</td>\n",
       "    </tr>\n",
       "    <tr>\n",
       "      <th>max</th>\n",
       "      <td>1.000000</td>\n",
       "      <td>0.0</td>\n",
       "      <td>0.0</td>\n",
       "      <td>0.0</td>\n",
       "      <td>0.0</td>\n",
       "      <td>0.0</td>\n",
       "      <td>0.0</td>\n",
       "      <td>0.0</td>\n",
       "      <td>0.0</td>\n",
       "      <td>0.0</td>\n",
       "      <td>...</td>\n",
       "      <td>0.0</td>\n",
       "      <td>0.0</td>\n",
       "      <td>0.0</td>\n",
       "      <td>0.0</td>\n",
       "      <td>0.0</td>\n",
       "      <td>0.0</td>\n",
       "      <td>0.0</td>\n",
       "      <td>0.0</td>\n",
       "      <td>0.0</td>\n",
       "      <td>0.0</td>\n",
       "    </tr>\n",
       "  </tbody>\n",
       "</table>\n",
       "<p>8 rows × 785 columns</p>\n",
       "</div>"
      ],
      "text/plain": [
       "             label  pixel0  pixel1  pixel2  pixel3  pixel4  pixel5  pixel6  \\\n",
       "count  1990.000000  1990.0  1990.0  1990.0  1990.0  1990.0  1990.0  1990.0   \n",
       "mean      0.500000     0.0     0.0     0.0     0.0     0.0     0.0     0.0   \n",
       "std       0.500126     0.0     0.0     0.0     0.0     0.0     0.0     0.0   \n",
       "min       0.000000     0.0     0.0     0.0     0.0     0.0     0.0     0.0   \n",
       "25%       0.000000     0.0     0.0     0.0     0.0     0.0     0.0     0.0   \n",
       "50%       0.500000     0.0     0.0     0.0     0.0     0.0     0.0     0.0   \n",
       "75%       1.000000     0.0     0.0     0.0     0.0     0.0     0.0     0.0   \n",
       "max       1.000000     0.0     0.0     0.0     0.0     0.0     0.0     0.0   \n",
       "\n",
       "       pixel7  pixel8    ...     pixel774  pixel775  pixel776  pixel777  \\\n",
       "count  1990.0  1990.0    ...       1990.0    1990.0    1990.0    1990.0   \n",
       "mean      0.0     0.0    ...          0.0       0.0       0.0       0.0   \n",
       "std       0.0     0.0    ...          0.0       0.0       0.0       0.0   \n",
       "min       0.0     0.0    ...          0.0       0.0       0.0       0.0   \n",
       "25%       0.0     0.0    ...          0.0       0.0       0.0       0.0   \n",
       "50%       0.0     0.0    ...          0.0       0.0       0.0       0.0   \n",
       "75%       0.0     0.0    ...          0.0       0.0       0.0       0.0   \n",
       "max       0.0     0.0    ...          0.0       0.0       0.0       0.0   \n",
       "\n",
       "       pixel778  pixel779  pixel780  pixel781  pixel782  pixel783  \n",
       "count    1990.0    1990.0    1990.0    1990.0    1990.0    1990.0  \n",
       "mean        0.0       0.0       0.0       0.0       0.0       0.0  \n",
       "std         0.0       0.0       0.0       0.0       0.0       0.0  \n",
       "min         0.0       0.0       0.0       0.0       0.0       0.0  \n",
       "25%         0.0       0.0       0.0       0.0       0.0       0.0  \n",
       "50%         0.0       0.0       0.0       0.0       0.0       0.0  \n",
       "75%         0.0       0.0       0.0       0.0       0.0       0.0  \n",
       "max         0.0       0.0       0.0       0.0       0.0       0.0  \n",
       "\n",
       "[8 rows x 785 columns]"
      ]
     },
     "execution_count": 152,
     "metadata": {},
     "output_type": "execute_result"
    }
   ],
   "source": [
    "label_zero, image_zero, label_one, image_one = load_data()\n",
    "concat_images, test_zero_images, test_one_images = load_train_data()\n",
    "concat_images.describe()"
   ]
  },
  {
   "cell_type": "markdown",
   "metadata": {},
   "source": [
    "# データを5枚ずつ読み込んで確認します"
   ]
  },
  {
   "cell_type": "code",
   "execution_count": 134,
   "metadata": {},
   "outputs": [
    {
     "data": {
      "image/png": "[encoded data removed]",
      "text/plain": [
       "<Figure size 432x288 with 5 Axes>"
      ]
     },
     "metadata": {},
     "output_type": "display_data"
    },
    {
     "data": {
      "image/png": "[encoded data removed]",
      "text/plain": [
       "<Figure size 432x288 with 5 Axes>"
      ]
     },
     "metadata": {},
     "output_type": "display_data"
    }
   ],
   "source": [
    "def show_data(image_data, count=5):\n",
    "    for i in range(count):\n",
    "        image = image_data[i]\n",
    "        plt.subplot(1,5,i+1)\n",
    "        plt.imshow(image_util.array_to_img(image))\n",
    "    plt.show()\n",
    "\n",
    "show_data(image_zero)\n",
    "show_data(image_one)"
   ]
  },
  {
   "cell_type": "markdown",
   "metadata": {},
   "source": [
    "# 学習ネットワークを定義"
   ]
  },
  {
   "cell_type": "code",
   "execution_count": 135,
   "metadata": {},
   "outputs": [
    {
     "name": "stdout",
     "output_type": "stream",
     "text": [
      "_________________________________________________________________\n",
      "Layer (type)                 Output Shape              Param #   \n",
      "=================================================================\n",
      "conv2d_18 (Conv2D)           (None, 26, 26, 32)        320       \n",
      "_________________________________________________________________\n",
      "conv2d_19 (Conv2D)           (None, 24, 24, 64)        18496     \n",
      "_________________________________________________________________\n",
      "max_pooling2d_10 (MaxPooling (None, 12, 12, 64)        0         \n",
      "_________________________________________________________________\n",
      "dropout_12 (Dropout)         (None, 12, 12, 64)        0         \n",
      "_________________________________________________________________\n",
      "flatten_6 (Flatten)          (None, 9216)              0         \n",
      "_________________________________________________________________\n",
      "dense_12 (Dense)             (None, 128)               1179776   \n",
      "_________________________________________________________________\n",
      "dropout_13 (Dropout)         (None, 128)               0         \n",
      "_________________________________________________________________\n",
      "dense_13 (Dense)             (None, 2)                 258       \n",
      "=================================================================\n",
      "Total params: 1,198,850\n",
      "Trainable params: 1,198,850\n",
      "Non-trainable params: 0\n",
      "_________________________________________________________________\n"
     ]
    }
   ],
   "source": [
    "model = Sequential()\n",
    "model.add(Conv2D(32, kernel_size=(3, 3), activation='relu', input_shape=(28, 28, 1)))\n",
    "model.add(Conv2D(64, (3, 3), activation='relu'))\n",
    "model.add(MaxPooling2D(pool_size=(2, 2)))\n",
    "model.add(Dropout(0.25))\n",
    "model.add(Flatten())\n",
    "model.add(Dense(128, activation='relu'))\n",
    "model.add(Dropout(0.5))\n",
    "model.add(Dense(2, activation='softmax'))\n",
    "model.summary()"
   ]
  },
  {
   "cell_type": "code",
   "execution_count": 144,
   "metadata": {},
   "outputs": [],
   "source": [
    "train_y = tf.keras.utils.to_categorical(concat_images[\"label\"].values, 2)\n",
    "train_x = concat_images.drop(\"label\", axis=1).values.reshape(len(concat_images), 28, 28, 1)"
   ]
  },
  {
   "cell_type": "code",
   "execution_count": 159,
   "metadata": {},
   "outputs": [
    {
     "data": {
      "text/plain": [
       "[array([[[[ 0.09419682, -0.04259279,  0.08431357, -0.12738734,\n",
       "            0.00311887, -0.10765286,  0.11693347,  0.02231905,\n",
       "           -0.11184737,  0.05608863,  0.11193254, -0.13919531,\n",
       "           -0.01636376, -0.05749897, -0.13067028, -0.01978849,\n",
       "           -0.14626083, -0.13495262, -0.09863632,  0.0780666 ,\n",
       "           -0.08400056, -0.06722201, -0.09570286,  0.09617756,\n",
       "            0.02106852,  0.04840238,  0.06744847, -0.13221711,\n",
       "            0.03947882, -0.12793732,  0.10429616, -0.01877519]],\n",
       " \n",
       "         [[ 0.0874013 , -0.03884137, -0.12436209, -0.00662918,\n",
       "           -0.08622111, -0.01214665,  0.09970047, -0.12032273,\n",
       "            0.07519894, -0.10504485,  0.00375244,  0.13104375,\n",
       "           -0.00747854, -0.07360807,  0.02891197,  0.11173368,\n",
       "           -0.00194146,  0.12441453, -0.11055828, -0.05191974,\n",
       "            0.11078285,  0.05932593,  0.02702743,  0.08166677,\n",
       "            0.03903507, -0.08761642, -0.06520931,  0.11414769,\n",
       "            0.04679208, -0.01171387, -0.09727161,  0.02050355]],\n",
       " \n",
       "         [[ 0.076129  ,  0.00859147,  0.04902085, -0.03000292,\n",
       "            0.12807937, -0.06834986,  0.05493948, -0.02474376,\n",
       "            0.06230156, -0.0930161 ,  0.0691344 , -0.12145989,\n",
       "            0.10652263, -0.00368458,  0.05752142, -0.13903624,\n",
       "           -0.14974211, -0.11864121,  0.11352407, -0.06191045,\n",
       "            0.05202262, -0.12450975,  0.04297124, -0.056447  ,\n",
       "            0.02092663, -0.04818586,  0.08511706,  0.12363614,\n",
       "           -0.05006145, -0.01769656, -0.05451401,  0.11035894]]],\n",
       " \n",
       " \n",
       "        [[[-0.04025189, -0.06685553,  0.02463524,  0.05869565,\n",
       "           -0.01198275, -0.07158221, -0.08460508,  0.03930115,\n",
       "           -0.06210379,  0.15022501,  0.08498713,  0.0382224 ,\n",
       "            0.14010426, -0.02002109, -0.07824787,  0.02457611,\n",
       "           -0.05410876,  0.134677  ,  0.07929243, -0.08398231,\n",
       "           -0.13130328,  0.10584109, -0.034517  ,  0.12015174,\n",
       "           -0.01876853,  0.12065689, -0.01221963,  0.06683942,\n",
       "            0.03820642,  0.11926788, -0.0805461 ,  0.12446264]],\n",
       " \n",
       "         [[-0.06285745, -0.04240084,  0.08844348, -0.10294482,\n",
       "            0.0423737 , -0.00345212, -0.08923601, -0.03878896,\n",
       "           -0.05356406, -0.07357319, -0.01243571,  0.0295164 ,\n",
       "            0.03048716, -0.00932965, -0.0823951 ,  0.02695421,\n",
       "            0.04441345,  0.0228265 , -0.03630023, -0.14371592,\n",
       "            0.14339148,  0.11394963,  0.02534322,  0.08473419,\n",
       "            0.12711342,  0.09409644, -0.0761523 ,  0.09698205,\n",
       "            0.02055052,  0.12205429,  0.0420424 ,  0.09414911]],\n",
       " \n",
       "         [[-0.04021747, -0.02628196,  0.09974408, -0.02099462,\n",
       "            0.03422466,  0.0824863 , -0.02549311, -0.14444746,\n",
       "           -0.01805304, -0.06668781, -0.06381375, -0.11182632,\n",
       "            0.06432543,  0.10669809,  0.09012879, -0.046077  ,\n",
       "            0.08521638, -0.1290159 ,  0.00907349, -0.12144412,\n",
       "           -0.10376246,  0.12849505,  0.09896377, -0.00683035,\n",
       "            0.06295522, -0.08922254,  0.0757337 ,  0.03955333,\n",
       "            0.04167069, -0.02426194,  0.01538148, -0.11862786]]],\n",
       " \n",
       " \n",
       "        [[[-0.12409099, -0.13235387, -0.06169689, -0.08819535,\n",
       "           -0.08508629, -0.10469299, -0.01167482, -0.08613414,\n",
       "           -0.08310786,  0.05229861, -0.04932595, -0.0976097 ,\n",
       "           -0.12491745, -0.00228547,  0.11770461,  0.05952387,\n",
       "            0.00241664, -0.11685257, -0.04677744,  0.13976772,\n",
       "           -0.05695548, -0.08877715,  0.01577022, -0.02301472,\n",
       "           -0.03403837, -0.10173286,  0.11351994, -0.08401366,\n",
       "            0.04537579, -0.03729013,  0.11059189,  0.0406317 ]],\n",
       " \n",
       "         [[ 0.11741502,  0.0023979 ,  0.08950603,  0.02544017,\n",
       "            0.03599811, -0.01987498, -0.05751468,  0.02816094,\n",
       "           -0.09023485, -0.07727482,  0.12472481, -0.11312955,\n",
       "           -0.01712096, -0.1403618 ,  0.10749739, -0.01075558,\n",
       "            0.08609638,  0.11388639, -0.09775789,  0.0521268 ,\n",
       "           -0.03854509, -0.02777402,  0.00188145, -0.04607779,\n",
       "            0.00918459, -0.1280348 , -0.12065747, -0.06904797,\n",
       "           -0.02451096, -0.07895625, -0.11403911, -0.08167091]],\n",
       " \n",
       "         [[-0.09101205,  0.07894159,  0.08718771,  0.00206904,\n",
       "           -0.09977038, -0.061605  ,  0.10296965, -0.10437069,\n",
       "           -0.13958763,  0.05332736, -0.12509838, -0.05894533,\n",
       "            0.10616469,  0.01794133,  0.09076221, -0.04026674,\n",
       "            0.0283414 ,  0.09890621, -0.00939654, -0.15243852,\n",
       "           -0.06050694, -0.03237345, -0.08749019, -0.07654225,\n",
       "           -0.11213197,  0.02860562,  0.03819183, -0.005682  ,\n",
       "           -0.13663095,  0.04530736, -0.01898011, -0.1477529 ]]]],\n",
       "       dtype=float32),\n",
       " array([ 0.01576066,  0.01409689, -0.00436026, -0.00180651, -0.01339321,\n",
       "        -0.00198831,  0.01016763,  0.01089768,  0.00874178,  0.008919  ,\n",
       "         0.00636913, -0.00668582,  0.00583155,  0.00086548, -0.00542518,\n",
       "         0.0030632 , -0.01644792, -0.00202669, -0.00990354, -0.00135872,\n",
       "        -0.00267329,  0.00708099,  0.00989666,  0.00394438, -0.00150036,\n",
       "         0.00604325,  0.00710605,  0.00662856, -0.00100003, -0.00735418,\n",
       "        -0.00930904, -0.02467741], dtype=float32)]"
      ]
     },
     "execution_count": 159,
     "metadata": {},
     "output_type": "execute_result"
    }
   ],
   "source": [
    "# AIがよくブラックボックスと思われがちなのがこの数字の部分\n",
    "model.get_layer('conv2d_18').get_weights()"
   ]
  },
  {
   "cell_type": "markdown",
   "metadata": {},
   "source": [
    "# 学習を実施"
   ]
  },
  {
   "cell_type": "code",
   "execution_count": 145,
   "metadata": {},
   "outputs": [
    {
     "name": "stdout",
     "output_type": "stream",
     "text": [
      "Train on 1791 samples, validate on 199 samples\n",
      "Epoch 1/10\n",
      "1791/1791 [==============================] - 5s 3ms/step - loss: 1.6614 - acc: 0.8911 - val_loss: 0.1620 - val_acc: 0.9899\n",
      "Epoch 2/10\n",
      "1791/1791 [==============================] - 4s 2ms/step - loss: 0.2946 - acc: 0.9793 - val_loss: 0.1620 - val_acc: 0.9899\n",
      "Epoch 3/10\n",
      "1791/1791 [==============================] - 5s 3ms/step - loss: 0.0884 - acc: 0.9933 - val_loss: 0.2285 - val_acc: 0.9849\n",
      "Epoch 4/10\n",
      "1791/1791 [==============================] - 4s 2ms/step - loss: 0.0795 - acc: 0.9939 - val_loss: 0.1620 - val_acc: 0.9899\n",
      "Epoch 5/10\n",
      "1791/1791 [==============================] - 4s 2ms/step - loss: 0.0450 - acc: 0.9972 - val_loss: 0.1620 - val_acc: 0.9899\n",
      "Epoch 6/10\n",
      "1791/1791 [==============================] - 4s 2ms/step - loss: 0.0720 - acc: 0.9955 - val_loss: 0.1620 - val_acc: 0.9899\n",
      "Epoch 7/10\n",
      "1791/1791 [==============================] - 4s 2ms/step - loss: 0.0471 - acc: 0.9966 - val_loss: 0.0827 - val_acc: 0.9950\n",
      "Epoch 8/10\n",
      "1791/1791 [==============================] - 4s 2ms/step - loss: 0.1019 - acc: 0.9933 - val_loss: 0.0810 - val_acc: 0.9950\n",
      "Epoch 9/10\n",
      "1791/1791 [==============================] - 4s 2ms/step - loss: 0.0270 - acc: 0.9983 - val_loss: 0.0810 - val_acc: 0.9950\n",
      "Epoch 10/10\n",
      "1791/1791 [==============================] - 4s 2ms/step - loss: 0.1029 - acc: 0.9927 - val_loss: 0.1192 - val_acc: 0.9899\n"
     ]
    }
   ],
   "source": [
    "from tensorflow.keras.optimizers import RMSprop\n",
    "\n",
    "model.compile(loss='categorical_crossentropy',\n",
    "              optimizer=RMSprop(),\n",
    "              metrics=['accuracy'])\n",
    "\n",
    "history = model.fit(train_x, train_y,\n",
    "                    batch_size=100,\n",
    "                    epochs=10,\n",
    "                    verbose=1,\n",
    "                   shuffle=True,\n",
    "                   validation_split=0.1)"
   ]
  },
  {
   "cell_type": "code",
   "execution_count": 146,
   "metadata": {},
   "outputs": [
    {
     "data": {
      "image/png": "[encoded data removed]",
      "text/plain": [
       "<Figure size 432x288 with 1 Axes>"
      ]
     },
     "metadata": {},
     "output_type": "display_data"
    },
    {
     "data": {
      "image/png": "[encoded data removed]",
      "text/plain": [
       "<Figure size 432x288 with 1 Axes>"
      ]
     },
     "metadata": {},
     "output_type": "display_data"
    }
   ],
   "source": [
    "def plot_history(history):\n",
    "    plt.plot(history.history['acc'], marker='.', label='acc')\n",
    "    plt.plot(history.history['val_acc'], marker='.', label='val_acc')\n",
    "    plt.title('model accuracy')\n",
    "    plt.grid()\n",
    "    plt.xlabel('epoch')\n",
    "    plt.ylabel('accuracy')\n",
    "    plt.legend(loc='best')\n",
    "    plt.show()\n",
    "\n",
    "    plt.plot(history.history['loss'], marker='.', label='loss')\n",
    "    plt.plot(history.history['val_loss'], marker='.', label='val_loss')\n",
    "    plt.title('model loss')\n",
    "    plt.grid()\n",
    "    plt.xlabel('epoch')\n",
    "    plt.ylabel('loss')\n",
    "    plt.legend(loc='best')\n",
    "    plt.show()\n",
    "# 学習履歴をプロット\n",
    "plot_history(history)"
   ]
  },
  {
   "cell_type": "markdown",
   "metadata": {},
   "source": [
    "# 学習したモデルで推論する"
   ]
  },
  {
   "cell_type": "code",
   "execution_count": 154,
   "metadata": {},
   "outputs": [
    {
     "data": {
      "image/png": "[encoded data removed]",
      "text/plain": [
       "<Figure size 432x288 with 5 Axes>"
      ]
     },
     "metadata": {},
     "output_type": "display_data"
    },
    {
     "data": {
      "image/png": "[encoded data removed]",
      "text/plain": [
       "<Figure size 432x288 with 5 Axes>"
      ]
     },
     "metadata": {},
     "output_type": "display_data"
    }
   ],
   "source": [
    "show_data(test_zero_images)\n",
    "show_data(test_one_images)"
   ]
  },
  {
   "cell_type": "code",
   "execution_count": 155,
   "metadata": {},
   "outputs": [
    {
     "data": {
      "text/plain": [
       "array([[1., 0.],\n",
       "       [1., 0.],\n",
       "       [1., 0.],\n",
       "       [1., 0.],\n",
       "       [1., 0.]], dtype=float32)"
      ]
     },
     "execution_count": 155,
     "metadata": {},
     "output_type": "execute_result"
    }
   ],
   "source": [
    "model.predict(test_zero_images)"
   ]
  },
  {
   "cell_type": "code",
   "execution_count": 156,
   "metadata": {},
   "outputs": [
    {
     "data": {
      "text/plain": [
       "array([[0., 1.],\n",
       "       [0., 1.],\n",
       "       [0., 1.],\n",
       "       [0., 1.],\n",
       "       [0., 1.]], dtype=float32)"
      ]
     },
     "execution_count": 156,
     "metadata": {},
     "output_type": "execute_result"
    }
   ],
   "source": [
    "model.predict(test_one_images)"
   ]
  },
  {
   "cell_type": "markdown",
   "metadata": {},
   "source": [
    "# [演繹法]'0'か'1'の手書き文字を判断する\n",
    "\n",
    "- '1'と'0'の違いを判断するのは人間は形で判断している\n",
    "- 0と判断しているときは「0の形をしているもの」をみている\n",
    "- 0の画像に「近い」ほうを0とする、それ以外を1と判断する\n",
    "- 「近い」を表現するために'0'と'1'それぞれ995枚の画像データを用意しておき、その中から最も近いものを選択すると'0'か'1'か判断できます\n",
    "\n"
   ]
  },
  {
   "cell_type": "markdown",
   "metadata": {},
   "source": [
    "# このルールの問題点\n",
    "\n",
    "- 995枚のデータのいずれかに似ているということが条件になります\n",
    "- 例えば手書き文字の位置がずれていたり、画像の光度が違って違う色に見えたりすることで途端に精度が落ちます"
   ]
  },
  {
   "cell_type": "code",
   "execution_count": 177,
   "metadata": {
    "collapsed": true
   },
   "outputs": [],
   "source": [
    "# k近傍方の実装\n",
    "class NearestNeighbor(object):\n",
    "  # 「近い」を表現するための画像を用意する\n",
    "  def train(self, X, y):\n",
    "    self.Xtr = X\n",
    "    self.ytr = y\n",
    "\n",
    "  # 入力画像が学習画像のどれに最も近いのか表現する\n",
    "  def predict(self, X):\n",
    "    num_test = X.shape[0]\n",
    "    Ypred = np.zeros(num_test, dtype = self.ytr.dtype)\n",
    "\n",
    "    # 入力画像に対してそれぞれ最も近い画像を探す\n",
    "    for i in range(num_test):\n",
    "      # 各画像の誤差の絶対値を加算することで画像との差分を計算する\n",
    "      distances = np.sum(np.abs(self.Xtr - X[i,:]), axis = 1)\n",
    "      # 最も距離が小さいものを選択する\n",
    "      min_index = np.argmin(distances)\n",
    "      # それに対応する答えをセットする\n",
    "      Ypred[i] = self.ytr[min_index]\n",
    "\n",
    "    return Ypred"
   ]
  },
  {
   "cell_type": "code",
   "execution_count": 187,
   "metadata": {
    "collapsed": true
   },
   "outputs": [],
   "source": [
    "nearest_neighbor = NearestNeighbor()\n",
    "concat_images, test_zero_images, test_one_images = load_train_data()\n",
    "concat_images.describe()\n",
    "y = concat_images[\"label\"]\n",
    "X = concat_images.drop(\"label\", axis=1)\n",
    "test_flatten_zero_images = test_zero_images.reshape(len(test_zero_images), 784)\n",
    "test_flatten_one_images = test_one_images.reshape(len(test_one_images), 784)\n",
    "nearest_neighbor.train(X, y)"
   ]
  },
  {
   "cell_type": "code",
   "execution_count": 188,
   "metadata": {},
   "outputs": [
    {
     "data": {
      "image/png": "[encoded data removed]",
      "text/plain": [
       "<Figure size 432x288 with 5 Axes>"
      ]
     },
     "metadata": {},
     "output_type": "display_data"
    },
    {
     "data": {
      "image/png": "[encoded data removed]",
      "text/plain": [
       "<Figure size 432x288 with 5 Axes>"
      ]
     },
     "metadata": {},
     "output_type": "display_data"
    }
   ],
   "source": [
    "show_data(test_zero_images)\n",
    "show_data(test_one_images)"
   ]
  },
  {
   "cell_type": "code",
   "execution_count": 190,
   "metadata": {},
   "outputs": [
    {
     "data": {
      "text/plain": [
       "array([0, 0, 0, 0, 0])"
      ]
     },
     "execution_count": 190,
     "metadata": {},
     "output_type": "execute_result"
    }
   ],
   "source": [
    "nearest_neighbor.predict(test_flatten_zero_images)"
   ]
  },
  {
   "cell_type": "code",
   "execution_count": 191,
   "metadata": {},
   "outputs": [
    {
     "data": {
      "text/plain": [
       "array([1, 1, 1, 1, 1])"
      ]
     },
     "execution_count": 191,
     "metadata": {},
     "output_type": "execute_result"
    }
   ],
   "source": [
    "nearest_neighbor.predict(test_flatten_one_images)"
   ]
  },
  {
   "cell_type": "code",
   "execution_count": null,
   "metadata": {
    "collapsed": true
   },
   "outputs": [],
   "source": []
  }
 ],
 "metadata": {
  "kernelspec": {
   "display_name": "Python 3",
   "language": "python",
   "name": "python3"
  },
  "language_info": {
   "codemirror_mode": {
    "name": "ipython",
    "version": 3
   },
   "file_extension": ".py",
   "mimetype": "text/x-python",
   "name": "python",
   "nbconvert_exporter": "python",
   "pygments_lexer": "ipython3",
   "version": "3.6.3"
  }
 },
 "nbformat": 4,
 "nbformat_minor": 2
}
